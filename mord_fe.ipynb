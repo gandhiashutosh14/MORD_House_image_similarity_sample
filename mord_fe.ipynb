{
 "cells": [
  {
   "cell_type": "code",
   "execution_count": 1,
   "id": "9a6da383",
   "metadata": {},
   "outputs": [],
   "source": [
    "import pandas as pd\n",
    "import numpy as np\n",
    "from matplotlib import pyplot as plt\n",
    "import seaborn as sns"
   ]
  },
  {
   "cell_type": "code",
   "execution_count": 2,
   "id": "8d88b264",
   "metadata": {},
   "outputs": [],
   "source": [
    "import warnings\n",
    "warnings.simplefilter(action='ignore')"
   ]
  },
  {
   "cell_type": "code",
   "execution_count": 3,
   "id": "e6e1a27a",
   "metadata": {},
   "outputs": [],
   "source": [
    "data = pd.read_csv(\"merged_feature_and_label_latest.csv\")"
   ]
  },
  {
   "cell_type": "code",
   "execution_count": 4,
   "id": "f40f9ff2",
   "metadata": {},
   "outputs": [
    {
     "data": {
      "text/html": [
       "<div>\n",
       "<style scoped>\n",
       "    .dataframe tbody tr th:only-of-type {\n",
       "        vertical-align: middle;\n",
       "    }\n",
       "\n",
       "    .dataframe tbody tr th {\n",
       "        vertical-align: top;\n",
       "    }\n",
       "\n",
       "    .dataframe thead th {\n",
       "        text-align: right;\n",
       "    }\n",
       "</style>\n",
       "<table border=\"1\" class=\"dataframe\">\n",
       "  <thead>\n",
       "    <tr style=\"text-align: right;\">\n",
       "      <th></th>\n",
       "      <th>House_ID</th>\n",
       "      <th>Comp_House_ID</th>\n",
       "      <th>Distance</th>\n",
       "      <th>Image Matched Status</th>\n",
       "      <th>Compare_House_ID</th>\n",
       "      <th>Hamming_Distace_Avg_Hash</th>\n",
       "      <th>Hamming_Distance_P_Hash</th>\n",
       "      <th>Hamming_Distance_D_Hash</th>\n",
       "      <th>Hamming_Distance_W_Hash</th>\n",
       "      <th>Hamming_Distance_Color_Hash</th>\n",
       "      <th>...</th>\n",
       "      <th>Time_taken_by_Rmse</th>\n",
       "      <th>Time_taken_by_psnr</th>\n",
       "      <th>Time_taken_by_Uqi</th>\n",
       "      <th>Time_taken_by_Ssim</th>\n",
       "      <th>Time_taken_by_Ergs</th>\n",
       "      <th>Time_taken_by_Scc</th>\n",
       "      <th>Time_taken_by_Rase</th>\n",
       "      <th>Time_Taken_by_Sam</th>\n",
       "      <th>Time_taken_by_Mssim</th>\n",
       "      <th>Time_taken_by_Vifp</th>\n",
       "    </tr>\n",
       "  </thead>\n",
       "  <tbody>\n",
       "    <tr>\n",
       "      <th>0</th>\n",
       "      <td>30005001</td>\n",
       "      <td>30006900</td>\n",
       "      <td>2.39</td>\n",
       "      <td>0</td>\n",
       "      <td>30006900</td>\n",
       "      <td>16</td>\n",
       "      <td>15</td>\n",
       "      <td>15</td>\n",
       "      <td>15</td>\n",
       "      <td>1</td>\n",
       "      <td>...</td>\n",
       "      <td>0.031161</td>\n",
       "      <td>0.023700</td>\n",
       "      <td>0.091795</td>\n",
       "      <td>1.151037</td>\n",
       "      <td>0.060726</td>\n",
       "      <td>0.697608</td>\n",
       "      <td>0.044455</td>\n",
       "      <td>0.019937</td>\n",
       "      <td>1.203347</td>\n",
       "      <td>2.608985</td>\n",
       "    </tr>\n",
       "    <tr>\n",
       "      <th>1</th>\n",
       "      <td>30005002</td>\n",
       "      <td>30010390</td>\n",
       "      <td>2.87</td>\n",
       "      <td>0</td>\n",
       "      <td>30010390</td>\n",
       "      <td>3</td>\n",
       "      <td>12</td>\n",
       "      <td>9</td>\n",
       "      <td>4</td>\n",
       "      <td>3</td>\n",
       "      <td>...</td>\n",
       "      <td>0.024327</td>\n",
       "      <td>0.024309</td>\n",
       "      <td>0.090183</td>\n",
       "      <td>0.965166</td>\n",
       "      <td>0.055554</td>\n",
       "      <td>0.582898</td>\n",
       "      <td>0.056679</td>\n",
       "      <td>0.018194</td>\n",
       "      <td>1.112687</td>\n",
       "      <td>2.191682</td>\n",
       "    </tr>\n",
       "    <tr>\n",
       "      <th>2</th>\n",
       "      <td>30005002</td>\n",
       "      <td>30005022</td>\n",
       "      <td>0.00</td>\n",
       "      <td>0</td>\n",
       "      <td>30005022</td>\n",
       "      <td>16</td>\n",
       "      <td>16</td>\n",
       "      <td>16</td>\n",
       "      <td>16</td>\n",
       "      <td>3</td>\n",
       "      <td>...</td>\n",
       "      <td>0.029601</td>\n",
       "      <td>0.019884</td>\n",
       "      <td>0.108542</td>\n",
       "      <td>1.175966</td>\n",
       "      <td>0.076046</td>\n",
       "      <td>0.670715</td>\n",
       "      <td>0.093051</td>\n",
       "      <td>0.014639</td>\n",
       "      <td>1.326527</td>\n",
       "      <td>2.659097</td>\n",
       "    </tr>\n",
       "    <tr>\n",
       "      <th>3</th>\n",
       "      <td>30005002</td>\n",
       "      <td>30006833</td>\n",
       "      <td>4.61</td>\n",
       "      <td>0</td>\n",
       "      <td>30006833</td>\n",
       "      <td>14</td>\n",
       "      <td>16</td>\n",
       "      <td>16</td>\n",
       "      <td>15</td>\n",
       "      <td>2</td>\n",
       "      <td>...</td>\n",
       "      <td>0.028428</td>\n",
       "      <td>0.023003</td>\n",
       "      <td>0.108461</td>\n",
       "      <td>1.210498</td>\n",
       "      <td>0.069606</td>\n",
       "      <td>0.724416</td>\n",
       "      <td>0.061686</td>\n",
       "      <td>0.022305</td>\n",
       "      <td>1.369419</td>\n",
       "      <td>2.772402</td>\n",
       "    </tr>\n",
       "    <tr>\n",
       "      <th>4</th>\n",
       "      <td>30005003</td>\n",
       "      <td>30008786</td>\n",
       "      <td>1.54</td>\n",
       "      <td>0</td>\n",
       "      <td>30008786</td>\n",
       "      <td>16</td>\n",
       "      <td>13</td>\n",
       "      <td>16</td>\n",
       "      <td>14</td>\n",
       "      <td>4</td>\n",
       "      <td>...</td>\n",
       "      <td>0.022653</td>\n",
       "      <td>0.024633</td>\n",
       "      <td>0.103395</td>\n",
       "      <td>1.186302</td>\n",
       "      <td>0.070671</td>\n",
       "      <td>0.708848</td>\n",
       "      <td>0.064357</td>\n",
       "      <td>0.025834</td>\n",
       "      <td>1.366913</td>\n",
       "      <td>2.669365</td>\n",
       "    </tr>\n",
       "  </tbody>\n",
       "</table>\n",
       "<p>5 rows × 37 columns</p>\n",
       "</div>"
      ],
      "text/plain": [
       "   House_ID  Comp_House_ID  Distance  Image Matched Status  Compare_House_ID  \\\n",
       "0  30005001       30006900      2.39                     0          30006900   \n",
       "1  30005002       30010390      2.87                     0          30010390   \n",
       "2  30005002       30005022      0.00                     0          30005022   \n",
       "3  30005002       30006833      4.61                     0          30006833   \n",
       "4  30005003       30008786      1.54                     0          30008786   \n",
       "\n",
       "   Hamming_Distace_Avg_Hash  Hamming_Distance_P_Hash  Hamming_Distance_D_Hash  \\\n",
       "0                        16                       15                       15   \n",
       "1                         3                       12                        9   \n",
       "2                        16                       16                       16   \n",
       "3                        14                       16                       16   \n",
       "4                        16                       13                       16   \n",
       "\n",
       "   Hamming_Distance_W_Hash  Hamming_Distance_Color_Hash  ...  \\\n",
       "0                       15                            1  ...   \n",
       "1                        4                            3  ...   \n",
       "2                       16                            3  ...   \n",
       "3                       15                            2  ...   \n",
       "4                       14                            4  ...   \n",
       "\n",
       "   Time_taken_by_Rmse  Time_taken_by_psnr  Time_taken_by_Uqi  \\\n",
       "0            0.031161            0.023700           0.091795   \n",
       "1            0.024327            0.024309           0.090183   \n",
       "2            0.029601            0.019884           0.108542   \n",
       "3            0.028428            0.023003           0.108461   \n",
       "4            0.022653            0.024633           0.103395   \n",
       "\n",
       "   Time_taken_by_Ssim Time_taken_by_Ergs  Time_taken_by_Scc  \\\n",
       "0            1.151037           0.060726           0.697608   \n",
       "1            0.965166           0.055554           0.582898   \n",
       "2            1.175966           0.076046           0.670715   \n",
       "3            1.210498           0.069606           0.724416   \n",
       "4            1.186302           0.070671           0.708848   \n",
       "\n",
       "   Time_taken_by_Rase  Time_Taken_by_Sam  Time_taken_by_Mssim  \\\n",
       "0            0.044455           0.019937             1.203347   \n",
       "1            0.056679           0.018194             1.112687   \n",
       "2            0.093051           0.014639             1.326527   \n",
       "3            0.061686           0.022305             1.369419   \n",
       "4            0.064357           0.025834             1.366913   \n",
       "\n",
       "  Time_taken_by_Vifp  \n",
       "0           2.608985  \n",
       "1           2.191682  \n",
       "2           2.659097  \n",
       "3           2.772402  \n",
       "4           2.669365  \n",
       "\n",
       "[5 rows x 37 columns]"
      ]
     },
     "execution_count": 4,
     "metadata": {},
     "output_type": "execute_result"
    }
   ],
   "source": [
    "data.head()"
   ]
  },
  {
   "cell_type": "code",
   "execution_count": 5,
   "id": "34557bc4",
   "metadata": {},
   "outputs": [
    {
     "data": {
      "text/plain": [
       "Index(['House_ID', 'Comp_House_ID', 'Distance', 'Image Matched Status',\n",
       "       'Compare_House_ID', 'Hamming_Distace_Avg_Hash',\n",
       "       'Hamming_Distance_P_Hash', 'Hamming_Distance_D_Hash',\n",
       "       'Hamming_Distance_W_Hash', 'Hamming_Distance_Color_Hash', 'Mse_Sewar',\n",
       "       'Rmse_Sewar', 'Psnr_Sewar', 'Uqi_Sewar', 'Ssim_Sewar', 'Ergas_Sewar',\n",
       "       'Scc_Sewar', 'Rase_Sewar', 'Sam_Sewar', 'Msim_Sewar', 'Vifp_Sewar',\n",
       "       'Time_taken_Hamming_Distace_Avg_Hash',\n",
       "       'Time_taken_Hamming_Distace_P_Hash',\n",
       "       'Time_taken_Hamming_Distace_D_Hash',\n",
       "       'Time_taken_Hamming_Distace_W_Hash',\n",
       "       'Time_taken_Hamming_Distace_Color_Hash', 'Time_taken_by_Mse',\n",
       "       'Time_taken_by_Rmse', 'Time_taken_by_psnr', 'Time_taken_by_Uqi',\n",
       "       'Time_taken_by_Ssim', 'Time_taken_by_Ergs', 'Time_taken_by_Scc',\n",
       "       'Time_taken_by_Rase', 'Time_Taken_by_Sam', 'Time_taken_by_Mssim',\n",
       "       'Time_taken_by_Vifp'],\n",
       "      dtype='object')"
      ]
     },
     "execution_count": 5,
     "metadata": {},
     "output_type": "execute_result"
    }
   ],
   "source": [
    "data.columns"
   ]
  },
  {
   "cell_type": "code",
   "execution_count": 6,
   "id": "aef99220",
   "metadata": {},
   "outputs": [
    {
     "data": {
      "text/plain": [
       "(2989, 37)"
      ]
     },
     "execution_count": 6,
     "metadata": {},
     "output_type": "execute_result"
    }
   ],
   "source": [
    "data.shape"
   ]
  },
  {
   "cell_type": "code",
   "execution_count": 7,
   "id": "97fa9067",
   "metadata": {},
   "outputs": [],
   "source": [
    "housing = data.drop(data.iloc[:,21:], axis=1)"
   ]
  },
  {
   "cell_type": "code",
   "execution_count": 8,
   "id": "5e740ed0",
   "metadata": {},
   "outputs": [
    {
     "data": {
      "text/html": [
       "<div>\n",
       "<style scoped>\n",
       "    .dataframe tbody tr th:only-of-type {\n",
       "        vertical-align: middle;\n",
       "    }\n",
       "\n",
       "    .dataframe tbody tr th {\n",
       "        vertical-align: top;\n",
       "    }\n",
       "\n",
       "    .dataframe thead th {\n",
       "        text-align: right;\n",
       "    }\n",
       "</style>\n",
       "<table border=\"1\" class=\"dataframe\">\n",
       "  <thead>\n",
       "    <tr style=\"text-align: right;\">\n",
       "      <th></th>\n",
       "      <th>House_ID</th>\n",
       "      <th>Comp_House_ID</th>\n",
       "      <th>Distance</th>\n",
       "      <th>Image Matched Status</th>\n",
       "      <th>Compare_House_ID</th>\n",
       "      <th>Hamming_Distace_Avg_Hash</th>\n",
       "      <th>Hamming_Distance_P_Hash</th>\n",
       "      <th>Hamming_Distance_D_Hash</th>\n",
       "      <th>Hamming_Distance_W_Hash</th>\n",
       "      <th>Hamming_Distance_Color_Hash</th>\n",
       "      <th>...</th>\n",
       "      <th>Rmse_Sewar</th>\n",
       "      <th>Psnr_Sewar</th>\n",
       "      <th>Uqi_Sewar</th>\n",
       "      <th>Ssim_Sewar</th>\n",
       "      <th>Ergas_Sewar</th>\n",
       "      <th>Scc_Sewar</th>\n",
       "      <th>Rase_Sewar</th>\n",
       "      <th>Sam_Sewar</th>\n",
       "      <th>Msim_Sewar</th>\n",
       "      <th>Vifp_Sewar</th>\n",
       "    </tr>\n",
       "  </thead>\n",
       "  <tbody>\n",
       "    <tr>\n",
       "      <th>0</th>\n",
       "      <td>30005001</td>\n",
       "      <td>30006900</td>\n",
       "      <td>2.39</td>\n",
       "      <td>0</td>\n",
       "      <td>30006900</td>\n",
       "      <td>16</td>\n",
       "      <td>15</td>\n",
       "      <td>15</td>\n",
       "      <td>15</td>\n",
       "      <td>1</td>\n",
       "      <td>...</td>\n",
       "      <td>81.304548</td>\n",
       "      <td>9.928507</td>\n",
       "      <td>0.641928</td>\n",
       "      <td>(0.1267369541791091, 0.16751183713477638)</td>\n",
       "      <td>39470.300560</td>\n",
       "      <td>-0.000661</td>\n",
       "      <td>5703.202060</td>\n",
       "      <td>0.580018</td>\n",
       "      <td>(0.14516479835801313+0j)</td>\n",
       "      <td>0.016178</td>\n",
       "    </tr>\n",
       "    <tr>\n",
       "      <th>1</th>\n",
       "      <td>30005002</td>\n",
       "      <td>30010390</td>\n",
       "      <td>2.87</td>\n",
       "      <td>0</td>\n",
       "      <td>30010390</td>\n",
       "      <td>3</td>\n",
       "      <td>12</td>\n",
       "      <td>9</td>\n",
       "      <td>4</td>\n",
       "      <td>3</td>\n",
       "      <td>...</td>\n",
       "      <td>25.764930</td>\n",
       "      <td>19.910224</td>\n",
       "      <td>0.960087</td>\n",
       "      <td>(0.5604611161646237, 0.5694552634091014)</td>\n",
       "      <td>7708.936827</td>\n",
       "      <td>0.004084</td>\n",
       "      <td>1107.334845</td>\n",
       "      <td>0.193499</td>\n",
       "      <td>(0.5049846077978652+0j)</td>\n",
       "      <td>0.043373</td>\n",
       "    </tr>\n",
       "    <tr>\n",
       "      <th>2</th>\n",
       "      <td>30005002</td>\n",
       "      <td>30005022</td>\n",
       "      <td>0.00</td>\n",
       "      <td>0</td>\n",
       "      <td>30005022</td>\n",
       "      <td>16</td>\n",
       "      <td>16</td>\n",
       "      <td>16</td>\n",
       "      <td>16</td>\n",
       "      <td>3</td>\n",
       "      <td>...</td>\n",
       "      <td>57.107598</td>\n",
       "      <td>12.996926</td>\n",
       "      <td>0.818091</td>\n",
       "      <td>(0.30315072583636915, 0.3356738823554138)</td>\n",
       "      <td>19477.563740</td>\n",
       "      <td>0.003758</td>\n",
       "      <td>2816.317012</td>\n",
       "      <td>0.436310</td>\n",
       "      <td>(0.17515065023515547+0j)</td>\n",
       "      <td>0.028715</td>\n",
       "    </tr>\n",
       "    <tr>\n",
       "      <th>3</th>\n",
       "      <td>30005002</td>\n",
       "      <td>30006833</td>\n",
       "      <td>4.61</td>\n",
       "      <td>0</td>\n",
       "      <td>30006833</td>\n",
       "      <td>14</td>\n",
       "      <td>16</td>\n",
       "      <td>16</td>\n",
       "      <td>15</td>\n",
       "      <td>2</td>\n",
       "      <td>...</td>\n",
       "      <td>69.885279</td>\n",
       "      <td>11.243090</td>\n",
       "      <td>0.784388</td>\n",
       "      <td>(0.28763010100176123, 0.3263718296725741)</td>\n",
       "      <td>25225.261870</td>\n",
       "      <td>0.007553</td>\n",
       "      <td>3636.734852</td>\n",
       "      <td>0.444024</td>\n",
       "      <td>(0.13190017618356875+0j)</td>\n",
       "      <td>0.025265</td>\n",
       "    </tr>\n",
       "    <tr>\n",
       "      <th>4</th>\n",
       "      <td>30005003</td>\n",
       "      <td>30008786</td>\n",
       "      <td>1.54</td>\n",
       "      <td>0</td>\n",
       "      <td>30008786</td>\n",
       "      <td>16</td>\n",
       "      <td>13</td>\n",
       "      <td>16</td>\n",
       "      <td>14</td>\n",
       "      <td>4</td>\n",
       "      <td>...</td>\n",
       "      <td>116.918509</td>\n",
       "      <td>6.773138</td>\n",
       "      <td>0.588737</td>\n",
       "      <td>(0.33890873143525074, 0.4650570088137027)</td>\n",
       "      <td>33395.164760</td>\n",
       "      <td>0.001533</td>\n",
       "      <td>4810.283150</td>\n",
       "      <td>0.640460</td>\n",
       "      <td>(0.23223031985109208+0j)</td>\n",
       "      <td>0.011374</td>\n",
       "    </tr>\n",
       "  </tbody>\n",
       "</table>\n",
       "<p>5 rows × 21 columns</p>\n",
       "</div>"
      ],
      "text/plain": [
       "   House_ID  Comp_House_ID  Distance  Image Matched Status  Compare_House_ID  \\\n",
       "0  30005001       30006900      2.39                     0          30006900   \n",
       "1  30005002       30010390      2.87                     0          30010390   \n",
       "2  30005002       30005022      0.00                     0          30005022   \n",
       "3  30005002       30006833      4.61                     0          30006833   \n",
       "4  30005003       30008786      1.54                     0          30008786   \n",
       "\n",
       "   Hamming_Distace_Avg_Hash  Hamming_Distance_P_Hash  Hamming_Distance_D_Hash  \\\n",
       "0                        16                       15                       15   \n",
       "1                         3                       12                        9   \n",
       "2                        16                       16                       16   \n",
       "3                        14                       16                       16   \n",
       "4                        16                       13                       16   \n",
       "\n",
       "   Hamming_Distance_W_Hash  Hamming_Distance_Color_Hash  ...  Rmse_Sewar  \\\n",
       "0                       15                            1  ...   81.304548   \n",
       "1                        4                            3  ...   25.764930   \n",
       "2                       16                            3  ...   57.107598   \n",
       "3                       15                            2  ...   69.885279   \n",
       "4                       14                            4  ...  116.918509   \n",
       "\n",
       "   Psnr_Sewar  Uqi_Sewar                                 Ssim_Sewar  \\\n",
       "0    9.928507   0.641928  (0.1267369541791091, 0.16751183713477638)   \n",
       "1   19.910224   0.960087   (0.5604611161646237, 0.5694552634091014)   \n",
       "2   12.996926   0.818091  (0.30315072583636915, 0.3356738823554138)   \n",
       "3   11.243090   0.784388  (0.28763010100176123, 0.3263718296725741)   \n",
       "4    6.773138   0.588737  (0.33890873143525074, 0.4650570088137027)   \n",
       "\n",
       "    Ergas_Sewar  Scc_Sewar   Rase_Sewar  Sam_Sewar                Msim_Sewar  \\\n",
       "0  39470.300560  -0.000661  5703.202060   0.580018  (0.14516479835801313+0j)   \n",
       "1   7708.936827   0.004084  1107.334845   0.193499   (0.5049846077978652+0j)   \n",
       "2  19477.563740   0.003758  2816.317012   0.436310  (0.17515065023515547+0j)   \n",
       "3  25225.261870   0.007553  3636.734852   0.444024  (0.13190017618356875+0j)   \n",
       "4  33395.164760   0.001533  4810.283150   0.640460  (0.23223031985109208+0j)   \n",
       "\n",
       "  Vifp_Sewar  \n",
       "0   0.016178  \n",
       "1   0.043373  \n",
       "2   0.028715  \n",
       "3   0.025265  \n",
       "4   0.011374  \n",
       "\n",
       "[5 rows x 21 columns]"
      ]
     },
     "execution_count": 8,
     "metadata": {},
     "output_type": "execute_result"
    }
   ],
   "source": [
    "housing.head()"
   ]
  },
  {
   "cell_type": "code",
   "execution_count": 9,
   "id": "51ae9c18",
   "metadata": {},
   "outputs": [],
   "source": [
    "housing.drop([\"House_ID\", \"Comp_House_ID\",\"Distance\",\"Compare_House_ID\",\"Psnr_Sewar\",\"Ssim_Sewar\",\"Msim_Sewar\",\"Rase_Sewar\"], axis = 1, inplace=True)"
   ]
  },
  {
   "cell_type": "code",
   "execution_count": 10,
   "id": "1036ab57",
   "metadata": {},
   "outputs": [
    {
     "data": {
      "text/html": [
       "<div>\n",
       "<style scoped>\n",
       "    .dataframe tbody tr th:only-of-type {\n",
       "        vertical-align: middle;\n",
       "    }\n",
       "\n",
       "    .dataframe tbody tr th {\n",
       "        vertical-align: top;\n",
       "    }\n",
       "\n",
       "    .dataframe thead th {\n",
       "        text-align: right;\n",
       "    }\n",
       "</style>\n",
       "<table border=\"1\" class=\"dataframe\">\n",
       "  <thead>\n",
       "    <tr style=\"text-align: right;\">\n",
       "      <th></th>\n",
       "      <th>Image Matched Status</th>\n",
       "      <th>Hamming_Distace_Avg_Hash</th>\n",
       "      <th>Hamming_Distance_P_Hash</th>\n",
       "      <th>Hamming_Distance_D_Hash</th>\n",
       "      <th>Hamming_Distance_W_Hash</th>\n",
       "      <th>Hamming_Distance_Color_Hash</th>\n",
       "      <th>Mse_Sewar</th>\n",
       "      <th>Rmse_Sewar</th>\n",
       "      <th>Uqi_Sewar</th>\n",
       "      <th>Ergas_Sewar</th>\n",
       "      <th>Scc_Sewar</th>\n",
       "      <th>Sam_Sewar</th>\n",
       "      <th>Vifp_Sewar</th>\n",
       "    </tr>\n",
       "  </thead>\n",
       "  <tbody>\n",
       "    <tr>\n",
       "      <th>0</th>\n",
       "      <td>0</td>\n",
       "      <td>16</td>\n",
       "      <td>15</td>\n",
       "      <td>15</td>\n",
       "      <td>15</td>\n",
       "      <td>1</td>\n",
       "      <td>6610.429603</td>\n",
       "      <td>81.304548</td>\n",
       "      <td>0.641928</td>\n",
       "      <td>39470.300560</td>\n",
       "      <td>-0.000661</td>\n",
       "      <td>0.580018</td>\n",
       "      <td>0.016178</td>\n",
       "    </tr>\n",
       "    <tr>\n",
       "      <th>1</th>\n",
       "      <td>0</td>\n",
       "      <td>3</td>\n",
       "      <td>12</td>\n",
       "      <td>9</td>\n",
       "      <td>4</td>\n",
       "      <td>3</td>\n",
       "      <td>663.831631</td>\n",
       "      <td>25.764930</td>\n",
       "      <td>0.960087</td>\n",
       "      <td>7708.936827</td>\n",
       "      <td>0.004084</td>\n",
       "      <td>0.193499</td>\n",
       "      <td>0.043373</td>\n",
       "    </tr>\n",
       "    <tr>\n",
       "      <th>2</th>\n",
       "      <td>0</td>\n",
       "      <td>16</td>\n",
       "      <td>16</td>\n",
       "      <td>16</td>\n",
       "      <td>16</td>\n",
       "      <td>3</td>\n",
       "      <td>3261.277776</td>\n",
       "      <td>57.107598</td>\n",
       "      <td>0.818091</td>\n",
       "      <td>19477.563740</td>\n",
       "      <td>0.003758</td>\n",
       "      <td>0.436310</td>\n",
       "      <td>0.028715</td>\n",
       "    </tr>\n",
       "    <tr>\n",
       "      <th>3</th>\n",
       "      <td>0</td>\n",
       "      <td>14</td>\n",
       "      <td>16</td>\n",
       "      <td>16</td>\n",
       "      <td>15</td>\n",
       "      <td>2</td>\n",
       "      <td>4883.952243</td>\n",
       "      <td>69.885279</td>\n",
       "      <td>0.784388</td>\n",
       "      <td>25225.261870</td>\n",
       "      <td>0.007553</td>\n",
       "      <td>0.444024</td>\n",
       "      <td>0.025265</td>\n",
       "    </tr>\n",
       "    <tr>\n",
       "      <th>4</th>\n",
       "      <td>0</td>\n",
       "      <td>16</td>\n",
       "      <td>13</td>\n",
       "      <td>16</td>\n",
       "      <td>14</td>\n",
       "      <td>4</td>\n",
       "      <td>13669.937780</td>\n",
       "      <td>116.918509</td>\n",
       "      <td>0.588737</td>\n",
       "      <td>33395.164760</td>\n",
       "      <td>0.001533</td>\n",
       "      <td>0.640460</td>\n",
       "      <td>0.011374</td>\n",
       "    </tr>\n",
       "  </tbody>\n",
       "</table>\n",
       "</div>"
      ],
      "text/plain": [
       "   Image Matched Status  Hamming_Distace_Avg_Hash  Hamming_Distance_P_Hash  \\\n",
       "0                     0                        16                       15   \n",
       "1                     0                         3                       12   \n",
       "2                     0                        16                       16   \n",
       "3                     0                        14                       16   \n",
       "4                     0                        16                       13   \n",
       "\n",
       "   Hamming_Distance_D_Hash  Hamming_Distance_W_Hash  \\\n",
       "0                       15                       15   \n",
       "1                        9                        4   \n",
       "2                       16                       16   \n",
       "3                       16                       15   \n",
       "4                       16                       14   \n",
       "\n",
       "   Hamming_Distance_Color_Hash     Mse_Sewar  Rmse_Sewar  Uqi_Sewar  \\\n",
       "0                            1   6610.429603   81.304548   0.641928   \n",
       "1                            3    663.831631   25.764930   0.960087   \n",
       "2                            3   3261.277776   57.107598   0.818091   \n",
       "3                            2   4883.952243   69.885279   0.784388   \n",
       "4                            4  13669.937780  116.918509   0.588737   \n",
       "\n",
       "    Ergas_Sewar  Scc_Sewar  Sam_Sewar  Vifp_Sewar  \n",
       "0  39470.300560  -0.000661   0.580018    0.016178  \n",
       "1   7708.936827   0.004084   0.193499    0.043373  \n",
       "2  19477.563740   0.003758   0.436310    0.028715  \n",
       "3  25225.261870   0.007553   0.444024    0.025265  \n",
       "4  33395.164760   0.001533   0.640460    0.011374  "
      ]
     },
     "execution_count": 10,
     "metadata": {},
     "output_type": "execute_result"
    }
   ],
   "source": [
    "housing.head()"
   ]
  },
  {
   "cell_type": "code",
   "execution_count": 11,
   "id": "703b1390",
   "metadata": {},
   "outputs": [
    {
     "data": {
      "text/plain": [
       "(2989, 13)"
      ]
     },
     "execution_count": 11,
     "metadata": {},
     "output_type": "execute_result"
    }
   ],
   "source": [
    "housing.shape"
   ]
  },
  {
   "cell_type": "code",
   "execution_count": 12,
   "id": "1e8061a4",
   "metadata": {},
   "outputs": [
    {
     "data": {
      "text/plain": [
       "array([0, 1])"
      ]
     },
     "execution_count": 12,
     "metadata": {},
     "output_type": "execute_result"
    }
   ],
   "source": [
    "housing['Image Matched Status'].unique()"
   ]
  },
  {
   "cell_type": "code",
   "execution_count": 13,
   "id": "f9bc44dd",
   "metadata": {},
   "outputs": [],
   "source": [
    "house_matching = housing[housing['Image Matched Status'] == 1]"
   ]
  },
  {
   "cell_type": "code",
   "execution_count": 14,
   "id": "91557add",
   "metadata": {},
   "outputs": [
    {
     "data": {
      "text/plain": [
       "563"
      ]
     },
     "execution_count": 14,
     "metadata": {},
     "output_type": "execute_result"
    }
   ],
   "source": [
    "len(house_matching)"
   ]
  },
  {
   "cell_type": "code",
   "execution_count": 15,
   "id": "337e8dcc",
   "metadata": {},
   "outputs": [],
   "source": [
    "house_different = housing[housing['Image Matched Status'] == 0]"
   ]
  },
  {
   "cell_type": "code",
   "execution_count": 16,
   "id": "d1ed50ee",
   "metadata": {},
   "outputs": [
    {
     "data": {
      "text/plain": [
       "2426"
      ]
     },
     "execution_count": 16,
     "metadata": {},
     "output_type": "execute_result"
    }
   ],
   "source": [
    "len(house_different)"
   ]
  },
  {
   "cell_type": "code",
   "execution_count": 17,
   "id": "8c7e4f37",
   "metadata": {},
   "outputs": [
    {
     "data": {
      "text/plain": [
       "array([[<AxesSubplot:title={'center':'Hamming_Distace_Avg_Hash'}>,\n",
       "        <AxesSubplot:title={'center':'Hamming_Distance_P_Hash'}>,\n",
       "        <AxesSubplot:title={'center':'Hamming_Distance_D_Hash'}>],\n",
       "       [<AxesSubplot:title={'center':'Hamming_Distance_W_Hash'}>,\n",
       "        <AxesSubplot:title={'center':'Hamming_Distance_Color_Hash'}>,\n",
       "        <AxesSubplot:title={'center':'Mse_Sewar'}>],\n",
       "       [<AxesSubplot:title={'center':'Rmse_Sewar'}>,\n",
       "        <AxesSubplot:title={'center':'Uqi_Sewar'}>,\n",
       "        <AxesSubplot:title={'center':'Ergas_Sewar'}>],\n",
       "       [<AxesSubplot:title={'center':'Scc_Sewar'}>,\n",
       "        <AxesSubplot:title={'center':'Sam_Sewar'}>,\n",
       "        <AxesSubplot:title={'center':'Vifp_Sewar'}>]], dtype=object)"
      ]
     },
     "execution_count": 17,
     "metadata": {},
     "output_type": "execute_result"
    },
    {
     "data": {
      "image/png": "[encoded data removed]",
      "text/plain": [
       "<Figure size 1080x1080 with 12 Axes>"
      ]
     },
     "metadata": {
      "needs_background": "light"
     },
     "output_type": "display_data"
    }
   ],
   "source": [
    "housing.iloc[:,1:].hist(figsize=(15,15))"
   ]
  },
  {
   "cell_type": "markdown",
   "id": "c8a89ecb",
   "metadata": {},
   "source": [
    "some of the features are left skewed. need to take higher powers."
   ]
  },
  {
   "cell_type": "code",
   "execution_count": 18,
   "id": "da310ed0",
   "metadata": {},
   "outputs": [
    {
     "name": "stdout",
     "output_type": "stream",
     "text": [
      "Hamming_Distace_Avg_Hash\n"
     ]
    },
    {
     "data": {
      "image/png": "[encoded data removed]",
      "text/plain": [
       "<Figure size 432x288 with 1 Axes>"
      ]
     },
     "metadata": {
      "needs_background": "light"
     },
     "output_type": "display_data"
    },
    {
     "name": "stdout",
     "output_type": "stream",
     "text": [
      "Hamming_Distance_P_Hash\n"
     ]
    },
    {
     "data": {
      "image/png": "[encoded data removed]",
      "text/plain": [
       "<Figure size 432x288 with 1 Axes>"
      ]
     },
     "metadata": {
      "needs_background": "light"
     },
     "output_type": "display_data"
    },
    {
     "name": "stdout",
     "output_type": "stream",
     "text": [
      "Hamming_Distance_D_Hash\n"
     ]
    },
    {
     "data": {
      "image/png": "[encoded data removed]",
      "text/plain": [
       "<Figure size 432x288 with 1 Axes>"
      ]
     },
     "metadata": {
      "needs_background": "light"
     },
     "output_type": "display_data"
    },
    {
     "name": "stdout",
     "output_type": "stream",
     "text": [
      "Hamming_Distance_W_Hash\n"
     ]
    },
    {
     "data": {
      "image/png": "[encoded data removed]",
      "text/plain": [
       "<Figure size 432x288 with 1 Axes>"
      ]
     },
     "metadata": {
      "needs_background": "light"
     },
     "output_type": "display_data"
    },
    {
     "name": "stdout",
     "output_type": "stream",
     "text": [
      "Hamming_Distance_Color_Hash\n"
     ]
    },
    {
     "data": {
      "image/png": "[encoded data removed]",
      "text/plain": [
       "<Figure size 432x288 with 1 Axes>"
      ]
     },
     "metadata": {
      "needs_background": "light"
     },
     "output_type": "display_data"
    },
    {
     "name": "stdout",
     "output_type": "stream",
     "text": [
      "Mse_Sewar\n"
     ]
    },
    {
     "data": {
      "image/png": "[encoded data removed]",
      "text/plain": [
       "<Figure size 432x288 with 1 Axes>"
      ]
     },
     "metadata": {
      "needs_background": "light"
     },
     "output_type": "display_data"
    },
    {
     "name": "stdout",
     "output_type": "stream",
     "text": [
      "Rmse_Sewar\n"
     ]
    },
    {
     "data": {
      "image/png": "[encoded data removed]",
      "text/plain": [
       "<Figure size 432x288 with 1 Axes>"
      ]
     },
     "metadata": {
      "needs_background": "light"
     },
     "output_type": "display_data"
    },
    {
     "name": "stdout",
     "output_type": "stream",
     "text": [
      "Uqi_Sewar\n"
     ]
    },
    {
     "data": {
      "image/png": "[encoded data removed]",
      "text/plain": [
       "<Figure size 432x288 with 1 Axes>"
      ]
     },
     "metadata": {
      "needs_background": "light"
     },
     "output_type": "display_data"
    },
    {
     "name": "stdout",
     "output_type": "stream",
     "text": [
      "Ergas_Sewar\n"
     ]
    },
    {
     "data": {
      "image/png": "[encoded data removed]",
      "text/plain": [
       "<Figure size 432x288 with 1 Axes>"
      ]
     },
     "metadata": {
      "needs_background": "light"
     },
     "output_type": "display_data"
    },
    {
     "name": "stdout",
     "output_type": "stream",
     "text": [
      "Scc_Sewar\n"
     ]
    },
    {
     "data": {
      "image/png": "[encoded data removed]",
      "text/plain": [
       "<Figure size 432x288 with 1 Axes>"
      ]
     },
     "metadata": {
      "needs_background": "light"
     },
     "output_type": "display_data"
    },
    {
     "name": "stdout",
     "output_type": "stream",
     "text": [
      "Sam_Sewar\n"
     ]
    },
    {
     "data": {
      "image/png": "[encoded data removed]",
      "text/plain": [
       "<Figure size 432x288 with 1 Axes>"
      ]
     },
     "metadata": {
      "needs_background": "light"
     },
     "output_type": "display_data"
    },
    {
     "name": "stdout",
     "output_type": "stream",
     "text": [
      "Vifp_Sewar\n"
     ]
    },
    {
     "data": {
      "image/png": "[encoded data removed]",
      "text/plain": [
       "<Figure size 432x288 with 1 Axes>"
      ]
     },
     "metadata": {
      "needs_background": "light"
     },
     "output_type": "display_data"
    }
   ],
   "source": [
    "## Plotting for each column, separating data for the two classes\n",
    "cols = housing.iloc[:,1:].columns\n",
    "for col in cols:\n",
    "    print(col)\n",
    "    plt.hist([house_matching[col],house_different[col]],alpha=0.5, bins= 10, label=['matching','different'])\n",
    "    plt.legend(loc='upper right')\n",
    "    plt.show()"
   ]
  },
  {
   "cell_type": "markdown",
   "id": "9fe68fb2",
   "metadata": {},
   "source": [
    "The datapoints for all of the dimensions are spread across matching and different classes and it is dificult to get any dimension from the histograms that can easily distinguish between the two classes."
   ]
  },
  {
   "cell_type": "code",
   "execution_count": 19,
   "id": "a24e2c0e",
   "metadata": {},
   "outputs": [
    {
     "data": {
      "text/plain": [
       "<seaborn.axisgrid.FacetGrid at 0x7f90c10dd430>"
      ]
     },
     "execution_count": 19,
     "metadata": {},
     "output_type": "execute_result"
    },
    {
     "data": {
      "image/png": "[encoded data removed]",
      "text/plain": [
       "<Figure size 480.125x360 with 1 Axes>"
      ]
     },
     "metadata": {
      "needs_background": "light"
     },
     "output_type": "display_data"
    }
   ],
   "source": [
    "sns.lmplot(\"Hamming_Distance_P_Hash\",\"Hamming_Distance_D_Hash\",data=housing,markers=['*','o'], fit_reg=False, hue = \"Image Matched Status\")"
   ]
  },
  {
   "cell_type": "code",
   "execution_count": 20,
   "id": "eee16353",
   "metadata": {},
   "outputs": [],
   "source": [
    "## take cube \n",
    "housing['Hamming_Distance_P_Hash_sk'] = np.power(housing['Hamming_Distance_P_Hash'],3)\n",
    "housing['Hamming_Distance_D_Hash_sk'] = np.power(housing['Hamming_Distance_D_Hash'],3)"
   ]
  },
  {
   "cell_type": "code",
   "execution_count": 21,
   "id": "1a5265d2",
   "metadata": {},
   "outputs": [
    {
     "data": {
      "text/plain": [
       "<seaborn.axisgrid.FacetGrid at 0x7f90a807b8b0>"
      ]
     },
     "execution_count": 21,
     "metadata": {},
     "output_type": "execute_result"
    },
    {
     "data": {
      "image/png": "[encoded data removed]",
      "text/plain": [
       "<Figure size 480.125x360 with 1 Axes>"
      ]
     },
     "metadata": {
      "needs_background": "light"
     },
     "output_type": "display_data"
    }
   ],
   "source": [
    "sns.lmplot(\"Hamming_Distance_P_Hash_sk\",\"Hamming_Distance_D_Hash_sk\",data=housing,markers=['*','o'], fit_reg=False, hue = \"Image Matched Status\")"
   ]
  },
  {
   "cell_type": "code",
   "execution_count": 22,
   "id": "85003715",
   "metadata": {},
   "outputs": [
    {
     "data": {
      "text/plain": [
       "<seaborn.axisgrid.FacetGrid at 0x7f908014afd0>"
      ]
     },
     "execution_count": 22,
     "metadata": {},
     "output_type": "execute_result"
    },
    {
     "data": {
      "image/png": "[encoded data removed]",
      "text/plain": [
       "<Figure size 480.125x360 with 1 Axes>"
      ]
     },
     "metadata": {
      "needs_background": "light"
     },
     "output_type": "display_data"
    }
   ],
   "source": [
    "sns.lmplot(\"Hamming_Distace_Avg_Hash\",\"Hamming_Distance_W_Hash\",data=housing,markers=['*','o'], fit_reg=False, hue = \"Image Matched Status\")"
   ]
  },
  {
   "cell_type": "code",
   "execution_count": 23,
   "id": "046e238f",
   "metadata": {},
   "outputs": [],
   "source": [
    "## square values\n",
    "housing['Hamming_Distace_Avg_Hash_sk'] = np.power(housing['Hamming_Distace_Avg_Hash'],2)\n",
    "housing['Hamming_Distance_W_Hash_sk'] = np.power(housing['Hamming_Distance_W_Hash'],2)"
   ]
  },
  {
   "cell_type": "code",
   "execution_count": 24,
   "id": "54321302",
   "metadata": {},
   "outputs": [
    {
     "data": {
      "text/plain": [
       "<seaborn.axisgrid.FacetGrid at 0x7f90d4a05cd0>"
      ]
     },
     "execution_count": 24,
     "metadata": {},
     "output_type": "execute_result"
    },
    {
     "data": {
      "image/png": "[encoded data removed]",
      "text/plain": [
       "<Figure size 480.125x360 with 1 Axes>"
      ]
     },
     "metadata": {
      "needs_background": "light"
     },
     "output_type": "display_data"
    }
   ],
   "source": [
    "sns.lmplot(\"Hamming_Distace_Avg_Hash_sk\",\"Hamming_Distance_W_Hash_sk\",data=housing,markers=['*','o'], fit_reg=False, hue = \"Image Matched Status\")"
   ]
  },
  {
   "cell_type": "code",
   "execution_count": 25,
   "id": "ea067934",
   "metadata": {},
   "outputs": [
    {
     "data": {
      "text/plain": [
       "array([[<AxesSubplot:title={'center':'Hamming_Distace_Avg_Hash'}>,\n",
       "        <AxesSubplot:title={'center':'Hamming_Distance_P_Hash'}>,\n",
       "        <AxesSubplot:title={'center':'Hamming_Distance_D_Hash'}>,\n",
       "        <AxesSubplot:title={'center':'Hamming_Distance_W_Hash'}>],\n",
       "       [<AxesSubplot:title={'center':'Hamming_Distance_Color_Hash'}>,\n",
       "        <AxesSubplot:title={'center':'Mse_Sewar'}>,\n",
       "        <AxesSubplot:title={'center':'Rmse_Sewar'}>,\n",
       "        <AxesSubplot:title={'center':'Uqi_Sewar'}>],\n",
       "       [<AxesSubplot:title={'center':'Ergas_Sewar'}>,\n",
       "        <AxesSubplot:title={'center':'Scc_Sewar'}>,\n",
       "        <AxesSubplot:title={'center':'Sam_Sewar'}>,\n",
       "        <AxesSubplot:title={'center':'Vifp_Sewar'}>],\n",
       "       [<AxesSubplot:title={'center':'Hamming_Distance_P_Hash_sk'}>,\n",
       "        <AxesSubplot:title={'center':'Hamming_Distance_D_Hash_sk'}>,\n",
       "        <AxesSubplot:title={'center':'Hamming_Distace_Avg_Hash_sk'}>,\n",
       "        <AxesSubplot:title={'center':'Hamming_Distance_W_Hash_sk'}>]],\n",
       "      dtype=object)"
      ]
     },
     "execution_count": 25,
     "metadata": {},
     "output_type": "execute_result"
    },
    {
     "data": {
      "image/png": "[encoded data removed]",
      "text/plain": [
       "<Figure size 1080x1080 with 16 Axes>"
      ]
     },
     "metadata": {
      "needs_background": "light"
     },
     "output_type": "display_data"
    }
   ],
   "source": [
    "housing.iloc[:,1:].hist(figsize=(15,15))"
   ]
  },
  {
   "cell_type": "code",
   "execution_count": 26,
   "id": "2130b574",
   "metadata": {},
   "outputs": [],
   "source": [
    "## Drop the skewed colummns\n",
    "housing.drop([\"Hamming_Distace_Avg_Hash\",\"Hamming_Distance_P_Hash\",\"Hamming_Distance_D_Hash\",\"Hamming_Distance_W_Hash\"], axis = 1, inplace=True)"
   ]
  },
  {
   "cell_type": "markdown",
   "id": "1a4f0f9e",
   "metadata": {},
   "source": [
    "Feature Acuracy"
   ]
  },
  {
   "cell_type": "code",
   "execution_count": 27,
   "id": "d707a1ce",
   "metadata": {},
   "outputs": [],
   "source": [
    "## initialize the lists\n",
    "feature_name = []\n",
    "accuracy = []\n",
    "gini_index = []\n",
    "entropy = []"
   ]
  },
  {
   "cell_type": "code",
   "execution_count": 28,
   "id": "f11a646d",
   "metadata": {},
   "outputs": [],
   "source": [
    "# Total size of the dataset\n",
    "data_size = len(housing)"
   ]
  },
  {
   "cell_type": "code",
   "execution_count": 29,
   "id": "91561f08",
   "metadata": {},
   "outputs": [],
   "source": [
    "## Run a loop for each feature\n",
    "for feature in housing.columns[1:]:\n",
    "    #print(feature)\n",
    "    #print(housing[feature].unique())\n",
    "    ## unique values that feature can take. call them Regions\n",
    "    regions = housing[feature].unique()\n",
    "    reg_count = len(regions)\n",
    "    ## IF the feature can take only 1 value, continue to next feature as this is more of a constant.\n",
    "    if reg_count <= 1:\n",
    "        continue\n",
    "    ## Initialize the variables to capture the gini, accuracy and entropy numbers for the feature.\n",
    "    feature_gini = 0.0\n",
    "    feature_accuracy = 0.0\n",
    "    feature_entropy = 0.0\n",
    "    \n",
    "    ## Running the loop for each region within the feature.\n",
    "    for region in regions:\n",
    "        #print(region)\n",
    "        ## subset the data for the feature/region partition\n",
    "        housing_region = housing[housing[feature] == region]\n",
    "        reg_size = len(housing_region)\n",
    "        ## Check proportion of matching class \"1\" within the partitioned data of the feature/region\n",
    "        size_class_e = len(housing_region[housing_region['Image Matched Status'] == 1])\n",
    "        proportion_e = size_class_e/reg_size\n",
    "        \n",
    "        ### Now that we have the Proportion of classes within the partitioned data for a region value, we can calculate the Information gain measures.\n",
    "        \n",
    "        ## accuracy\n",
    "        ## Assign region accuracy as the proportion of major class\n",
    "        if proportion_e >= 0.5:\n",
    "            reg_accuracy = proportion_e\n",
    "        else:\n",
    "            reg_accuracy = (1 - proportion_e)\n",
    "        ## Weighted accuracy basis the region size.\n",
    "        weighted_accuracy = reg_accuracy * reg_size / data_size\n",
    "        ## add the region accuracy to the feature accuracy number.\n",
    "        feature_accuracy = feature_accuracy + weighted_accuracy\n",
    "        \n",
    "        ## Gini Index\n",
    "        #Calculating Gini Purity index and normalizing basis region weight.\n",
    "        reg_gini  = (np.square(proportion_e) + np.square(1 - proportion_e)) * reg_size / data_size\n",
    "        #print(reg_gini)\n",
    "        feature_gini = feature_gini + reg_gini\n",
    "        \n",
    "        ## Entropy\n",
    "        # check for pure regions.\n",
    "        if(proportion_e == 0 or proportion_e == 1):\n",
    "            reg_entropy = 0.0\n",
    "        else:\n",
    "            # log_k for feature with k values (reg_count).\n",
    "            reg_entropy = - (proportion_e * np.log(proportion_e) / np.log(reg_count) \\\n",
    "                + (1 - proportion_e) * np.log(1 - proportion_e) / np.log(reg_count)) * reg_size / data_size\n",
    "        #print(reg_entropy)\n",
    "        feature_entropy = feature_entropy + reg_entropy\n",
    "        \n",
    "    ## append the values to the lists\n",
    "    feature_name.append(feature)\n",
    "    gini_index.append(feature_gini)\n",
    "    accuracy.append(feature_accuracy)\n",
    "    entropy.append(1 - feature_entropy)"
   ]
  },
  {
   "cell_type": "code",
   "execution_count": 30,
   "id": "5796d546",
   "metadata": {},
   "outputs": [],
   "source": [
    "## creating the datafrmae of the lists.\n",
    "info_gain = pd.DataFrame()\n",
    "info_gain['Feature_Name'] = feature_name\n",
    "info_gain['Accuracy'] = accuracy\n",
    "info_gain['Gini_Index'] = gini_index\n",
    "info_gain['1 - Entropy'] = entropy"
   ]
  },
  {
   "cell_type": "code",
   "execution_count": 31,
   "id": "4542b7d1",
   "metadata": {},
   "outputs": [
    {
     "name": "stdout",
     "output_type": "stream",
     "text": [
      "                   Feature_Name  Accuracy  Gini_Index  1 - Entropy\n",
      "0   Hamming_Distance_Color_Hash  0.811643    0.704619     0.775488\n",
      "1                     Mse_Sewar  0.991636    0.991636     0.998541\n",
      "2                    Rmse_Sewar  0.991636    0.991636     0.998541\n",
      "3                     Uqi_Sewar  0.991636    0.991636     0.998541\n",
      "4                   Ergas_Sewar  0.991636    0.991636     0.998541\n",
      "5                     Scc_Sewar  0.991636    0.991636     0.998541\n",
      "6                     Sam_Sewar  0.991636    0.991636     0.998541\n",
      "7                    Vifp_Sewar  0.991636    0.991636     0.998541\n",
      "8    Hamming_Distance_P_Hash_sk  0.817330    0.707026     0.823041\n",
      "9    Hamming_Distance_D_Hash_sk  0.818668    0.710195     0.829174\n",
      "10  Hamming_Distace_Avg_Hash_sk  0.815657    0.712801     0.838215\n",
      "11   Hamming_Distance_W_Hash_sk  0.817665    0.712428     0.834656\n"
     ]
    }
   ],
   "source": [
    "print(info_gain)"
   ]
  },
  {
   "cell_type": "code",
   "execution_count": 32,
   "id": "75e437c9",
   "metadata": {},
   "outputs": [
    {
     "data": {
      "text/plain": [
       "<seaborn.axisgrid.FacetGrid at 0x7f90d4ae7b80>"
      ]
     },
     "execution_count": 32,
     "metadata": {},
     "output_type": "execute_result"
    },
    {
     "data": {
      "image/png": "[encoded data removed]",
      "text/plain": [
       "<Figure size 556.75x360 with 1 Axes>"
      ]
     },
     "metadata": {
      "needs_background": "light"
     },
     "output_type": "display_data"
    }
   ],
   "source": [
    "## plotting the Accuracy vs '1-Entropy' scatter plot\n",
    "sns.lmplot(\"Accuracy\",\"1 - Entropy\",data=info_gain, fit_reg=False, hue = \"Feature_Name\")"
   ]
  },
  {
   "cell_type": "markdown",
   "id": "188b78d7",
   "metadata": {},
   "source": [
    "*sewar metrics seems to be more significant"
   ]
  },
  {
   "cell_type": "markdown",
   "id": "5d117ff9",
   "metadata": {},
   "source": [
    "### Model"
   ]
  },
  {
   "cell_type": "code",
   "execution_count": 33,
   "id": "e1674ad2",
   "metadata": {},
   "outputs": [],
   "source": [
    "from sklearn.linear_model import LogisticRegression\n",
    "from sklearn import metrics"
   ]
  },
  {
   "cell_type": "code",
   "execution_count": 34,
   "id": "6dc34e58",
   "metadata": {},
   "outputs": [
    {
     "name": "stdout",
     "output_type": "stream",
     "text": [
      "<class 'pandas.core.frame.DataFrame'>\n",
      "RangeIndex: 2989 entries, 0 to 2988\n",
      "Data columns (total 13 columns):\n",
      " #   Column                       Non-Null Count  Dtype  \n",
      "---  ------                       --------------  -----  \n",
      " 0   Image Matched Status         2989 non-null   int64  \n",
      " 1   Hamming_Distance_Color_Hash  2989 non-null   int64  \n",
      " 2   Mse_Sewar                    2989 non-null   float64\n",
      " 3   Rmse_Sewar                   2989 non-null   float64\n",
      " 4   Uqi_Sewar                    2989 non-null   float64\n",
      " 5   Ergas_Sewar                  2989 non-null   float64\n",
      " 6   Scc_Sewar                    2989 non-null   float64\n",
      " 7   Sam_Sewar                    2989 non-null   float64\n",
      " 8   Vifp_Sewar                   2989 non-null   float64\n",
      " 9   Hamming_Distance_P_Hash_sk   2989 non-null   int64  \n",
      " 10  Hamming_Distance_D_Hash_sk   2989 non-null   int64  \n",
      " 11  Hamming_Distace_Avg_Hash_sk  2989 non-null   int64  \n",
      " 12  Hamming_Distance_W_Hash_sk   2989 non-null   int64  \n",
      "dtypes: float64(7), int64(6)\n",
      "memory usage: 303.7 KB\n"
     ]
    }
   ],
   "source": [
    "housing.info()"
   ]
  },
  {
   "cell_type": "code",
   "execution_count": 35,
   "id": "f78e434a",
   "metadata": {},
   "outputs": [
    {
     "data": {
      "text/plain": [
       "Image Matched Status           False\n",
       "Hamming_Distance_Color_Hash    False\n",
       "Mse_Sewar                      False\n",
       "Rmse_Sewar                     False\n",
       "Uqi_Sewar                      False\n",
       "Ergas_Sewar                    False\n",
       "Scc_Sewar                      False\n",
       "Sam_Sewar                      False\n",
       "Vifp_Sewar                     False\n",
       "Hamming_Distance_P_Hash_sk     False\n",
       "Hamming_Distance_D_Hash_sk     False\n",
       "Hamming_Distace_Avg_Hash_sk    False\n",
       "Hamming_Distance_W_Hash_sk     False\n",
       "dtype: bool"
      ]
     },
     "execution_count": 35,
     "metadata": {},
     "output_type": "execute_result"
    }
   ],
   "source": [
    "housing.isna().any()"
   ]
  },
  {
   "cell_type": "code",
   "execution_count": 36,
   "id": "fbd64233",
   "metadata": {},
   "outputs": [
    {
     "name": "stdout",
     "output_type": "stream",
     "text": [
      "Percentage of different images: 81.16426898628303\n",
      "Percentage of matching images: 18.83573101371696\n"
     ]
    }
   ],
   "source": [
    "match_percent = housing['Image Matched Status'].value_counts()\n",
    "print (\"Percentage of different images:\", (match_percent[0]/(match_percent[0]+match_percent[1]))*100)\n",
    "print (\"Percentage of matching images:\", (match_percent[1]/(match_percent[0]+match_percent[1]))*100)"
   ]
  },
  {
   "cell_type": "markdown",
   "id": "1b388b83",
   "metadata": {},
   "source": [
    " Imbalance in class. need to do oversampling of training data"
   ]
  },
  {
   "cell_type": "code",
   "execution_count": 37,
   "id": "064066e2",
   "metadata": {},
   "outputs": [],
   "source": [
    "# define dependant and indepandant vairables dataframe\n",
    "X = housing.iloc[:,1:] # Features \n",
    "y = housing['Image Matched Status'] # Target variable "
   ]
  },
  {
   "cell_type": "code",
   "execution_count": 38,
   "id": "148c3521",
   "metadata": {},
   "outputs": [],
   "source": [
    "from sklearn.model_selection import train_test_split\n",
    "X_train,X_test,y_train,y_test=train_test_split(X,y,test_size=0.3,random_state=1)"
   ]
  },
  {
   "cell_type": "code",
   "execution_count": 39,
   "id": "38705202",
   "metadata": {},
   "outputs": [],
   "source": [
    "# instantiate the model (using the default parameters)\n",
    "housinglogreg = LogisticRegression()\n",
    "\n",
    "# fit the model with data\n",
    "housinglogreg.fit(X_train,y_train)\n",
    "y_pred=housinglogreg.predict(X_test)"
   ]
  },
  {
   "cell_type": "code",
   "execution_count": 40,
   "id": "bba8bdd0",
   "metadata": {},
   "outputs": [
    {
     "data": {
      "text/plain": [
       "array([[728,   1],\n",
       "       [159,   9]])"
      ]
     },
     "execution_count": 40,
     "metadata": {},
     "output_type": "execute_result"
    }
   ],
   "source": [
    "cnf_matrix = metrics.confusion_matrix(y_test, y_pred)\n",
    "cnf_matrix"
   ]
  },
  {
   "cell_type": "code",
   "execution_count": 41,
   "id": "aa7b9796",
   "metadata": {},
   "outputs": [
    {
     "data": {
      "text/plain": [
       "Text(0.5, 257.44, 'Predicted label')"
      ]
     },
     "execution_count": 41,
     "metadata": {},
     "output_type": "execute_result"
    },
    {
     "data": {
      "image/png": "[encoded data removed]",
      "text/plain": [
       "<Figure size 432x288 with 2 Axes>"
      ]
     },
     "metadata": {
      "needs_background": "light"
     },
     "output_type": "display_data"
    }
   ],
   "source": [
    "class_names=[0,1] # name  of classes\n",
    "fig, ax = plt.subplots()\n",
    "tick_marks = np.arange(len(class_names))\n",
    "plt.xticks(tick_marks, class_names)\n",
    "plt.yticks(tick_marks, class_names)\n",
    "# create heatmap\n",
    "sns.heatmap(pd.DataFrame(cnf_matrix), annot=True, cmap=\"YlGnBu\" ,fmt='g')\n",
    "ax.xaxis.set_label_position(\"top\")\n",
    "plt.tight_layout()\n",
    "plt.title('Confusion matrix', y=1.1)\n",
    "plt.ylabel('Actual label')\n",
    "plt.xlabel('Predicted label')"
   ]
  },
  {
   "cell_type": "markdown",
   "id": "daa4ba06",
   "metadata": {},
   "source": [
    "bad model"
   ]
  },
  {
   "cell_type": "markdown",
   "id": "f23ef58e",
   "metadata": {},
   "source": [
    "## logit"
   ]
  },
  {
   "cell_type": "code",
   "execution_count": 42,
   "id": "9d46c2ac",
   "metadata": {},
   "outputs": [],
   "source": [
    "from sklearn.feature_selection import RFE\n",
    "import statsmodels.api as sm\n",
    "from sklearn.metrics import confusion_matrix"
   ]
  },
  {
   "cell_type": "code",
   "execution_count": 43,
   "id": "e45e225d",
   "metadata": {},
   "outputs": [],
   "source": [
    "# define dependant and indepandant vairables dataframe\n",
    "X = housing.iloc[:,1:] # Features \n",
    "y = housing['Image Matched Status'] # Target variable "
   ]
  },
  {
   "cell_type": "code",
   "execution_count": 44,
   "id": "682c63ac",
   "metadata": {},
   "outputs": [
    {
     "name": "stdout",
     "output_type": "stream",
     "text": [
      "Number transactions X_train dataset:  (2092, 12)\n",
      "Number transactions y_train dataset:  (2092,)\n",
      "Number transactions X_test dataset:  (897, 12)\n",
      "Number transactions y_test dataset:  (897,)\n"
     ]
    }
   ],
   "source": [
    "X_train,X_test,y_train,y_test=train_test_split(X,y,test_size=0.30,random_state=0)\n",
    "print(\"Number transactions X_train dataset: \", X_train.shape)\n",
    "print(\"Number transactions y_train dataset: \", y_train.shape)\n",
    "print(\"Number transactions X_test dataset: \", X_test.shape)\n",
    "print(\"Number transactions y_test dataset: \", y_test.shape)"
   ]
  },
  {
   "cell_type": "code",
   "execution_count": 45,
   "id": "8e46a8c7",
   "metadata": {},
   "outputs": [
    {
     "name": "stdout",
     "output_type": "stream",
     "text": [
      "Optimization terminated successfully.\n",
      "         Current function value: 0.415256\n",
      "         Iterations 7\n",
      "                               Results: Logit\n",
      "=============================================================================\n",
      "Model:                  Logit                  Pseudo R-squared:   0.124     \n",
      "Dependent Variable:     Image Matched Status   AIC:                1761.4316 \n",
      "Date:                   2023-02-28 23:59       BIC:                1829.1821 \n",
      "No. Observations:       2092                   Log-Likelihood:     -868.72   \n",
      "Df Model:               11                     LL-Null:            -991.35   \n",
      "Df Residuals:           2080                   LLR p-value:        2.7270e-46\n",
      "Converged:              1.0000                 Scale:              1.0000    \n",
      "No. Iterations:         7.0000                                               \n",
      "-----------------------------------------------------------------------------\n",
      "                             Coef.   Std.Err.    z    P>|z|   [0.025   0.975]\n",
      "-----------------------------------------------------------------------------\n",
      "Hamming_Distance_Color_Hash  -0.2023   0.0469 -4.3184 0.0000  -0.2941 -0.1105\n",
      "Mse_Sewar                    -0.0001   0.0001 -0.5322 0.5946  -0.0004  0.0002\n",
      "Rmse_Sewar                   -0.0125   0.0197 -0.6341 0.5260  -0.0510  0.0261\n",
      "Uqi_Sewar                     2.4834   0.6853  3.6239 0.0003   1.1403  3.8265\n",
      "Ergas_Sewar                  -0.0000   0.0000 -0.3545 0.7230  -0.0000  0.0000\n",
      "Scc_Sewar                    31.0091  10.3221  3.0041 0.0027  10.7781 51.2400\n",
      "Sam_Sewar                     1.1578   0.9361  1.2368 0.2161  -0.6769  2.9924\n",
      "Vifp_Sewar                  -19.5862   6.5308 -2.9991 0.0027 -32.3863 -6.7861\n",
      "Hamming_Distance_P_Hash_sk   -0.0001   0.0001 -1.3993 0.1617  -0.0003  0.0000\n",
      "Hamming_Distance_D_Hash_sk   -0.0003   0.0001 -4.0599 0.0000  -0.0005 -0.0002\n",
      "Hamming_Distace_Avg_Hash_sk  -0.0008   0.0018 -0.4382 0.6612  -0.0043  0.0028\n",
      "Hamming_Distance_W_Hash_sk   -0.0025   0.0020 -1.2925 0.1962  -0.0063  0.0013\n",
      "=============================================================================\n",
      "\n"
     ]
    }
   ],
   "source": [
    "logit_model=sm.Logit(y_train,X_train)\n",
    "result=logit_model.fit()\n",
    "print(result.summary2())"
   ]
  },
  {
   "cell_type": "code",
   "execution_count": 46,
   "id": "8746b650",
   "metadata": {},
   "outputs": [],
   "source": [
    "y_pred = result.predict(X_test)\n",
    "y_pred = round(y_pred)"
   ]
  },
  {
   "cell_type": "code",
   "execution_count": 47,
   "id": "80fca03c",
   "metadata": {},
   "outputs": [
    {
     "data": {
      "text/plain": [
       "array([[704,  10],\n",
       "       [157,  26]])"
      ]
     },
     "execution_count": 47,
     "metadata": {},
     "output_type": "execute_result"
    }
   ],
   "source": [
    "cnf_matrix = metrics.confusion_matrix(y_test, y_pred)\n",
    "cnf_matrix"
   ]
  },
  {
   "cell_type": "code",
   "execution_count": 48,
   "id": "358959cb",
   "metadata": {},
   "outputs": [
    {
     "name": "stdout",
     "output_type": "stream",
     "text": [
      "Accuracy: 0.8138238573021181\n",
      "Precision: 0.7222222222222222\n",
      "Recall: 0.14207650273224043\n"
     ]
    }
   ],
   "source": [
    "print(\"Accuracy:\",metrics.accuracy_score(y_test, y_pred))\n",
    "print(\"Precision:\",metrics.precision_score(y_test, y_pred))\n",
    "print(\"Recall:\",metrics.recall_score(y_test, y_pred))"
   ]
  },
  {
   "cell_type": "markdown",
   "id": "24bb58bc",
   "metadata": {},
   "source": [
    "## Rebalance Classes"
   ]
  },
  {
   "cell_type": "code",
   "execution_count": 49,
   "id": "f2bfef42",
   "metadata": {},
   "outputs": [
    {
     "name": "stdout",
     "output_type": "stream",
     "text": [
      "Requirement already satisfied: imblearn in ./opt/anaconda3/lib/python3.9/site-packages (0.0)\n",
      "Requirement already satisfied: imbalanced-learn in ./opt/anaconda3/lib/python3.9/site-packages (from imblearn) (0.10.1)\n",
      "Requirement already satisfied: numpy>=1.17.3 in ./opt/anaconda3/lib/python3.9/site-packages (from imbalanced-learn->imblearn) (1.21.5)\n",
      "Requirement already satisfied: scipy>=1.3.2 in ./opt/anaconda3/lib/python3.9/site-packages (from imbalanced-learn->imblearn) (1.7.3)\n",
      "Requirement already satisfied: scikit-learn>=1.0.2 in ./opt/anaconda3/lib/python3.9/site-packages (from imbalanced-learn->imblearn) (1.0.2)\n",
      "Requirement already satisfied: joblib>=1.1.1 in ./opt/anaconda3/lib/python3.9/site-packages (from imbalanced-learn->imblearn) (1.2.0)\n",
      "Requirement already satisfied: threadpoolctl>=2.0.0 in ./opt/anaconda3/lib/python3.9/site-packages (from imbalanced-learn->imblearn) (2.2.0)\n"
     ]
    }
   ],
   "source": [
    "!pip install imblearn"
   ]
  },
  {
   "cell_type": "code",
   "execution_count": 50,
   "id": "3e715aeb",
   "metadata": {},
   "outputs": [],
   "source": [
    "from imblearn.over_sampling import SMOTE"
   ]
  },
  {
   "cell_type": "code",
   "execution_count": 51,
   "id": "0657f0d2",
   "metadata": {},
   "outputs": [],
   "source": [
    "# define dependant and indepandant vairables dataframe\n",
    "X = housing.iloc[:,1:] # Features \n",
    "y = housing['Image Matched Status'] # Target variable "
   ]
  },
  {
   "cell_type": "code",
   "execution_count": 52,
   "id": "417f6380",
   "metadata": {},
   "outputs": [
    {
     "name": "stdout",
     "output_type": "stream",
     "text": [
      "Number transactions X_train dataset:  (2092, 12)\n",
      "Number transactions y_train dataset:  (2092,)\n",
      "Number transactions X_test dataset:  (897, 12)\n",
      "Number transactions y_test dataset:  (897,)\n"
     ]
    }
   ],
   "source": [
    "X_train,X_test,y_train,y_test=train_test_split(X,y,test_size=0.30,random_state=0)\n",
    "print(\"Number transactions X_train dataset: \", X_train.shape)\n",
    "print(\"Number transactions y_train dataset: \", y_train.shape)\n",
    "print(\"Number transactions X_test dataset: \", X_test.shape)\n",
    "print(\"Number transactions y_test dataset: \", y_test.shape)"
   ]
  },
  {
   "cell_type": "code",
   "execution_count": 53,
   "id": "f99a91bc",
   "metadata": {},
   "outputs": [
    {
     "data": {
      "text/plain": [
       "0    1712\n",
       "1     380\n",
       "Name: Image Matched Status, dtype: int64"
      ]
     },
     "execution_count": 53,
     "metadata": {},
     "output_type": "execute_result"
    }
   ],
   "source": [
    "y_train.value_counts()"
   ]
  },
  {
   "cell_type": "code",
   "execution_count": 54,
   "id": "3f1b8666",
   "metadata": {},
   "outputs": [],
   "source": [
    "oversam = SMOTE(random_state=0)\n",
    "X_train_sam,y_train_sam=oversam.fit_resample(X_train, y_train)"
   ]
  },
  {
   "cell_type": "code",
   "execution_count": 55,
   "id": "3167e7d8",
   "metadata": {},
   "outputs": [
    {
     "name": "stdout",
     "output_type": "stream",
     "text": [
      "Number transactions X_train dataset:  (3424, 12)\n",
      "Number transactions y_train dataset:  (3424,)\n"
     ]
    }
   ],
   "source": [
    "print(\"Number transactions X_train dataset: \", X_train_sam.shape)\n",
    "print(\"Number transactions y_train dataset: \", y_train_sam.shape)"
   ]
  },
  {
   "cell_type": "code",
   "execution_count": 56,
   "id": "23b8a310",
   "metadata": {},
   "outputs": [
    {
     "data": {
      "text/plain": [
       "0    1712\n",
       "1    1712\n",
       "Name: Image Matched Status, dtype: int64"
      ]
     },
     "execution_count": 56,
     "metadata": {},
     "output_type": "execute_result"
    }
   ],
   "source": [
    "y_train_sam.value_counts()"
   ]
  },
  {
   "cell_type": "code",
   "execution_count": 57,
   "id": "856a028a",
   "metadata": {},
   "outputs": [],
   "source": [
    "# instantiate the model (using the default parameters)\n",
    "housinglogreg_sam = LogisticRegression()\n",
    "\n",
    "# fit the model with data\n",
    "housinglogreg_sam.fit(X_train_sam,y_train_sam)\n",
    "y_pred=housinglogreg_sam.predict(X_test)"
   ]
  },
  {
   "cell_type": "code",
   "execution_count": 58,
   "id": "009d6ebf",
   "metadata": {},
   "outputs": [
    {
     "data": {
      "text/plain": [
       "array([[463, 251],\n",
       "       [ 56, 127]])"
      ]
     },
     "execution_count": 58,
     "metadata": {},
     "output_type": "execute_result"
    }
   ],
   "source": [
    "cnf_matrix = metrics.confusion_matrix(y_test, y_pred)\n",
    "cnf_matrix"
   ]
  },
  {
   "cell_type": "code",
   "execution_count": 59,
   "id": "34c6101d",
   "metadata": {},
   "outputs": [
    {
     "name": "stdout",
     "output_type": "stream",
     "text": [
      "Accuracy: 0.6577480490523969\n",
      "Precision: 0.335978835978836\n",
      "Recall: 0.6939890710382514\n"
     ]
    }
   ],
   "source": [
    "print(\"Accuracy:\",metrics.accuracy_score(y_test, y_pred))\n",
    "print(\"Precision:\",metrics.precision_score(y_test, y_pred))\n",
    "print(\"Recall:\",metrics.recall_score(y_test, y_pred))"
   ]
  },
  {
   "cell_type": "markdown",
   "id": "2c531f80",
   "metadata": {},
   "source": [
    "## Adasyn"
   ]
  },
  {
   "cell_type": "code",
   "execution_count": 60,
   "id": "e35c27f6",
   "metadata": {},
   "outputs": [],
   "source": [
    "from imblearn.over_sampling import ADASYN"
   ]
  },
  {
   "cell_type": "code",
   "execution_count": 61,
   "id": "5d5fb3a1",
   "metadata": {},
   "outputs": [],
   "source": [
    "# define dependant and indepandant vairables dataframe\n",
    "X = housing.iloc[:,1:] # Features \n",
    "y = housing['Image Matched Status'] # Target variable \n",
    "X_train,X_test,y_train,y_test=train_test_split(X,y,test_size=0.30,random_state=0)"
   ]
  },
  {
   "cell_type": "code",
   "execution_count": 62,
   "id": "9bd5d1ef",
   "metadata": {},
   "outputs": [],
   "source": [
    "adasyn = ADASYN(random_state=130)\n",
    "X_train_ada,y_train_ada=adasyn.fit_resample(X_train, y_train)"
   ]
  },
  {
   "cell_type": "code",
   "execution_count": 63,
   "id": "d5db0eec",
   "metadata": {},
   "outputs": [
    {
     "data": {
      "text/plain": [
       "1    1729\n",
       "0    1712\n",
       "Name: Image Matched Status, dtype: int64"
      ]
     },
     "execution_count": 63,
     "metadata": {},
     "output_type": "execute_result"
    }
   ],
   "source": [
    "y_train_ada.value_counts()"
   ]
  },
  {
   "cell_type": "code",
   "execution_count": 64,
   "id": "d6795dd5",
   "metadata": {},
   "outputs": [],
   "source": [
    "# instantiate the model (using the default parameters)\n",
    "housinglogreg_ada = LogisticRegression()\n",
    "\n",
    "# fit the model with data\n",
    "housinglogreg_ada.fit(X_train_ada,y_train_ada)\n",
    "y_pred=housinglogreg_ada.predict(X_test)"
   ]
  },
  {
   "cell_type": "code",
   "execution_count": 65,
   "id": "e210e232",
   "metadata": {},
   "outputs": [
    {
     "data": {
      "text/plain": [
       "array([[458, 256],\n",
       "       [ 58, 125]])"
      ]
     },
     "execution_count": 65,
     "metadata": {},
     "output_type": "execute_result"
    }
   ],
   "source": [
    "cnf_matrix = metrics.confusion_matrix(y_test, y_pred)\n",
    "cnf_matrix"
   ]
  },
  {
   "cell_type": "code",
   "execution_count": 66,
   "id": "734a84d4",
   "metadata": {},
   "outputs": [
    {
     "name": "stdout",
     "output_type": "stream",
     "text": [
      "Accuracy: 0.6499442586399108\n",
      "Precision: 0.32808398950131235\n",
      "Recall: 0.6830601092896175\n"
     ]
    }
   ],
   "source": [
    "print(\"Accuracy:\",metrics.accuracy_score(y_test, y_pred))\n",
    "print(\"Precision:\",metrics.precision_score(y_test, y_pred))\n",
    "print(\"Recall:\",metrics.recall_score(y_test, y_pred))"
   ]
  },
  {
   "cell_type": "code",
   "execution_count": 67,
   "id": "77ea890b",
   "metadata": {},
   "outputs": [
    {
     "data": {
      "text/plain": [
       "Text(0.5, 257.44, 'Predicted label')"
      ]
     },
     "execution_count": 67,
     "metadata": {},
     "output_type": "execute_result"
    },
    {
     "data": {
      "image/png": "[encoded data removed]",
      "text/plain": [
       "<Figure size 432x288 with 2 Axes>"
      ]
     },
     "metadata": {
      "needs_background": "light"
     },
     "output_type": "display_data"
    }
   ],
   "source": [
    "class_names=[0,1] # name  of classes\n",
    "fig, ax = plt.subplots()\n",
    "tick_marks = np.arange(len(class_names))\n",
    "plt.xticks(tick_marks, class_names)\n",
    "plt.yticks(tick_marks, class_names)\n",
    "# create heatmap\n",
    "sns.heatmap(pd.DataFrame(cnf_matrix), annot=True, cmap=\"YlGnBu\" ,fmt='g')\n",
    "ax.xaxis.set_label_position(\"top\")\n",
    "plt.tight_layout()\n",
    "plt.title('Confusion matrix', y=1.1)\n",
    "plt.ylabel('Actual label')\n",
    "plt.xlabel('Predicted label')"
   ]
  },
  {
   "cell_type": "markdown",
   "id": "218440c2",
   "metadata": {},
   "source": [
    "## smote enn"
   ]
  },
  {
   "cell_type": "code",
   "execution_count": 68,
   "id": "3d84531e",
   "metadata": {},
   "outputs": [],
   "source": [
    "from imblearn.combine import SMOTEENN"
   ]
  },
  {
   "cell_type": "code",
   "execution_count": 69,
   "id": "bbc04e67",
   "metadata": {},
   "outputs": [],
   "source": [
    "# define dependant and indepandant vairables dataframe\n",
    "X = housing.iloc[:,1:] # Features \n",
    "y = housing['Image Matched Status'] # Target variable \n",
    "X_train,X_test,y_train,y_test=train_test_split(X,y,test_size=0.30,random_state=0)"
   ]
  },
  {
   "cell_type": "code",
   "execution_count": 70,
   "id": "9ae573a4",
   "metadata": {},
   "outputs": [],
   "source": [
    "smtenn = SMOTEENN()\n",
    "X_train_enn,y_train_enn=smtenn.fit_resample(X_train, y_train)"
   ]
  },
  {
   "cell_type": "code",
   "execution_count": 71,
   "id": "85198868",
   "metadata": {},
   "outputs": [],
   "source": [
    "# instantiate the model (using the default parameters)\n",
    "housinglogreg_enn = LogisticRegression()\n",
    "\n",
    "# fit the model with data\n",
    "housinglogreg_enn.fit(X_train_enn,y_train_enn)\n",
    "y_pred=housinglogreg_enn.predict(X_test)"
   ]
  },
  {
   "cell_type": "code",
   "execution_count": 72,
   "id": "6c2b7d24",
   "metadata": {},
   "outputs": [
    {
     "data": {
      "text/plain": [
       "array([[385, 329],\n",
       "       [ 43, 140]])"
      ]
     },
     "execution_count": 72,
     "metadata": {},
     "output_type": "execute_result"
    }
   ],
   "source": [
    "cnf_matrix = metrics.confusion_matrix(y_test, y_pred)\n",
    "cnf_matrix"
   ]
  },
  {
   "cell_type": "code",
   "execution_count": 73,
   "id": "e2a7a2a5",
   "metadata": {},
   "outputs": [
    {
     "name": "stdout",
     "output_type": "stream",
     "text": [
      "Accuracy: 0.5852842809364549\n",
      "Precision: 0.29850746268656714\n",
      "Recall: 0.7650273224043715\n"
     ]
    }
   ],
   "source": [
    "print(\"Accuracy:\",metrics.accuracy_score(y_test, y_pred))\n",
    "print(\"Precision:\",metrics.precision_score(y_test, y_pred))\n",
    "print(\"Recall:\",metrics.recall_score(y_test, y_pred))"
   ]
  },
  {
   "cell_type": "code",
   "execution_count": 74,
   "id": "f09e3ac6",
   "metadata": {},
   "outputs": [
    {
     "data": {
      "text/plain": [
       "Text(0.5, 257.44, 'Predicted label')"
      ]
     },
     "execution_count": 74,
     "metadata": {},
     "output_type": "execute_result"
    },
    {
     "data": {
      "image/png": "[encoded data removed]",
      "text/plain": [
       "<Figure size 432x288 with 2 Axes>"
      ]
     },
     "metadata": {
      "needs_background": "light"
     },
     "output_type": "display_data"
    }
   ],
   "source": [
    "class_names=[0,1] # name  of classes\n",
    "fig, ax = plt.subplots()\n",
    "tick_marks = np.arange(len(class_names))\n",
    "plt.xticks(tick_marks, class_names)\n",
    "plt.yticks(tick_marks, class_names)\n",
    "# create heatmap\n",
    "sns.heatmap(pd.DataFrame(cnf_matrix), annot=True, cmap=\"YlGnBu\" ,fmt='g')\n",
    "ax.xaxis.set_label_position(\"top\")\n",
    "plt.tight_layout()\n",
    "plt.title('Confusion matrix', y=1.1)\n",
    "plt.ylabel('Actual label')\n",
    "plt.xlabel('Predicted label')"
   ]
  },
  {
   "cell_type": "markdown",
   "id": "bf9bce45",
   "metadata": {},
   "source": [
    "### Random Forest"
   ]
  },
  {
   "cell_type": "code",
   "execution_count": 75,
   "id": "7371ced2",
   "metadata": {},
   "outputs": [],
   "source": [
    "from sklearn.ensemble import RandomForestClassifier\n",
    "from sklearn.metrics import accuracy_score, confusion_matrix, precision_score, recall_score, ConfusionMatrixDisplay\n",
    "from sklearn.model_selection import RandomizedSearchCV, train_test_split\n",
    "from scipy.stats import randint"
   ]
  },
  {
   "cell_type": "code",
   "execution_count": 76,
   "id": "eed6caca",
   "metadata": {},
   "outputs": [],
   "source": [
    "rf = RandomForestClassifier()\n",
    "rf.fit(X_train, y_train)\n",
    "y_pred=rf.predict(X_test)"
   ]
  },
  {
   "cell_type": "code",
   "execution_count": 77,
   "id": "73cddd7a",
   "metadata": {},
   "outputs": [
    {
     "data": {
      "text/plain": [
       "array([[691,  23],\n",
       "       [148,  35]])"
      ]
     },
     "execution_count": 77,
     "metadata": {},
     "output_type": "execute_result"
    }
   ],
   "source": [
    "cnf_matrix = metrics.confusion_matrix(y_test, y_pred)\n",
    "cnf_matrix"
   ]
  },
  {
   "cell_type": "code",
   "execution_count": 78,
   "id": "9e168baf",
   "metadata": {},
   "outputs": [],
   "source": [
    "rf_enn = RandomForestClassifier()\n",
    "rf_enn.fit(X_train_enn, y_train_enn)\n",
    "y_pred=rf_enn.predict(X_test)"
   ]
  },
  {
   "cell_type": "code",
   "execution_count": 79,
   "id": "08d6876f",
   "metadata": {},
   "outputs": [
    {
     "data": {
      "text/plain": [
       "array([[578, 136],\n",
       "       [ 82, 101]])"
      ]
     },
     "execution_count": 79,
     "metadata": {},
     "output_type": "execute_result"
    }
   ],
   "source": [
    "cnf_matrix = metrics.confusion_matrix(y_test, y_pred)\n",
    "cnf_matrix"
   ]
  },
  {
   "cell_type": "code",
   "execution_count": 80,
   "id": "adccd375",
   "metadata": {},
   "outputs": [],
   "source": [
    "rf_sam = RandomForestClassifier()\n",
    "rf_sam.fit(X_train_sam, y_train_sam)\n",
    "y_pred=rf_sam.predict(X_test)"
   ]
  },
  {
   "cell_type": "code",
   "execution_count": 81,
   "id": "0c1f1ba8",
   "metadata": {},
   "outputs": [
    {
     "data": {
      "text/plain": [
       "array([[657,  57],\n",
       "       [120,  63]])"
      ]
     },
     "execution_count": 81,
     "metadata": {},
     "output_type": "execute_result"
    }
   ],
   "source": [
    "cnf_matrix = metrics.confusion_matrix(y_test, y_pred)\n",
    "cnf_matrix"
   ]
  },
  {
   "cell_type": "code",
   "execution_count": 82,
   "id": "41b68339",
   "metadata": {},
   "outputs": [],
   "source": [
    "param_dist = {'n_estimators': randint(50,500),\n",
    "              'max_depth': randint(1,20)}"
   ]
  },
  {
   "cell_type": "code",
   "execution_count": 83,
   "id": "34ea5e30",
   "metadata": {},
   "outputs": [],
   "source": [
    "# Create a random forest classifier\n",
    "rf_tune = RandomForestClassifier()\n",
    "\n",
    "# Use random search to find the best hyperparameters\n",
    "rand_search = RandomizedSearchCV(rf_tune, \n",
    "                                 param_distributions = param_dist, \n",
    "                                 n_iter=5, \n",
    "                                 cv=5)"
   ]
  },
  {
   "cell_type": "code",
   "execution_count": 84,
   "id": "3bd7b975",
   "metadata": {},
   "outputs": [],
   "source": [
    "rand_search.fit(X_train_enn, y_train_enn)\n",
    "y_pred=rand_search.predict(X_test)"
   ]
  },
  {
   "cell_type": "code",
   "execution_count": 85,
   "id": "e576262e",
   "metadata": {},
   "outputs": [
    {
     "data": {
      "text/plain": [
       "array([[565, 149],\n",
       "       [ 78, 105]])"
      ]
     },
     "execution_count": 85,
     "metadata": {},
     "output_type": "execute_result"
    }
   ],
   "source": [
    "cnf_matrix = metrics.confusion_matrix(y_test, y_pred)\n",
    "cnf_matrix"
   ]
  },
  {
   "cell_type": "code",
   "execution_count": 86,
   "id": "7857e1cd",
   "metadata": {},
   "outputs": [
    {
     "data": {
      "text/plain": [
       "Text(0.5, 257.44, 'Predicted label')"
      ]
     },
     "execution_count": 86,
     "metadata": {},
     "output_type": "execute_result"
    },
    {
     "data": {
      "image/png": "[encoded data removed]",
      "text/plain": [
       "<Figure size 432x288 with 2 Axes>"
      ]
     },
     "metadata": {
      "needs_background": "light"
     },
     "output_type": "display_data"
    }
   ],
   "source": [
    "class_names=[0,1] # name  of classes\n",
    "fig, ax = plt.subplots()\n",
    "tick_marks = np.arange(len(class_names))\n",
    "plt.xticks(tick_marks, class_names)\n",
    "plt.yticks(tick_marks, class_names)\n",
    "# create heatmap\n",
    "sns.heatmap(pd.DataFrame(cnf_matrix), annot=True, cmap=\"YlGnBu\" ,fmt='g')\n",
    "ax.xaxis.set_label_position(\"top\")\n",
    "plt.tight_layout()\n",
    "plt.title('Confusion matrix', y=1.1)\n",
    "plt.ylabel('Actual label')\n",
    "plt.xlabel('Predicted label')"
   ]
  },
  {
   "cell_type": "markdown",
   "id": "15adc8b9",
   "metadata": {},
   "source": [
    "## Decision Tree"
   ]
  },
  {
   "cell_type": "code",
   "execution_count": 87,
   "id": "c1c91c63",
   "metadata": {},
   "outputs": [],
   "source": [
    "from sklearn.tree import DecisionTreeClassifier "
   ]
  },
  {
   "cell_type": "code",
   "execution_count": 88,
   "id": "f72e2784",
   "metadata": {},
   "outputs": [],
   "source": [
    "clf = DecisionTreeClassifier()\n",
    "clf.fit(X_train, y_train)\n",
    "y_pred=clf.predict(X_test)"
   ]
  },
  {
   "cell_type": "code",
   "execution_count": 89,
   "id": "155c1918",
   "metadata": {},
   "outputs": [
    {
     "data": {
      "text/plain": [
       "array([[612, 102],\n",
       "       [123,  60]])"
      ]
     },
     "execution_count": 89,
     "metadata": {},
     "output_type": "execute_result"
    }
   ],
   "source": [
    "cnf_matrix = metrics.confusion_matrix(y_test, y_pred)\n",
    "cnf_matrix"
   ]
  },
  {
   "cell_type": "code",
   "execution_count": 90,
   "id": "8cd8a2f9",
   "metadata": {},
   "outputs": [],
   "source": [
    "clf_enn = DecisionTreeClassifier()\n",
    "clf_enn.fit(X_train_enn, y_train_enn)\n",
    "y_pred=clf_enn.predict(X_test)"
   ]
  },
  {
   "cell_type": "code",
   "execution_count": 91,
   "id": "c935ff7c",
   "metadata": {},
   "outputs": [
    {
     "data": {
      "text/plain": [
       "array([[541, 173],\n",
       "       [ 86,  97]])"
      ]
     },
     "execution_count": 91,
     "metadata": {},
     "output_type": "execute_result"
    }
   ],
   "source": [
    "cnf_matrix = metrics.confusion_matrix(y_test, y_pred)\n",
    "cnf_matrix"
   ]
  },
  {
   "cell_type": "code",
   "execution_count": 92,
   "id": "e3fa9265",
   "metadata": {},
   "outputs": [],
   "source": [
    "clf_sam = DecisionTreeClassifier()\n",
    "clf_sam.fit(X_train_sam, y_train_sam)\n",
    "y_pred=clf_sam.predict(X_test)"
   ]
  },
  {
   "cell_type": "code",
   "execution_count": 93,
   "id": "88a18b31",
   "metadata": {},
   "outputs": [
    {
     "data": {
      "text/plain": [
       "array([[590, 124],\n",
       "       [114,  69]])"
      ]
     },
     "execution_count": 93,
     "metadata": {},
     "output_type": "execute_result"
    }
   ],
   "source": [
    "cnf_matrix = metrics.confusion_matrix(y_test, y_pred)\n",
    "cnf_matrix"
   ]
  },
  {
   "cell_type": "code",
   "execution_count": 94,
   "id": "a4c4c11e",
   "metadata": {},
   "outputs": [
    {
     "data": {
      "text/plain": [
       "Text(0.5, 257.44, 'Predicted label')"
      ]
     },
     "execution_count": 94,
     "metadata": {},
     "output_type": "execute_result"
    },
    {
     "data": {
      "image/png": "[encoded data removed]",
      "text/plain": [
       "<Figure size 432x288 with 2 Axes>"
      ]
     },
     "metadata": {
      "needs_background": "light"
     },
     "output_type": "display_data"
    }
   ],
   "source": [
    "class_names=[0,1] # name  of classes\n",
    "fig, ax = plt.subplots()\n",
    "tick_marks = np.arange(len(class_names))\n",
    "plt.xticks(tick_marks, class_names)\n",
    "plt.yticks(tick_marks, class_names)\n",
    "# create heatmap\n",
    "sns.heatmap(pd.DataFrame(cnf_matrix), annot=True, cmap=\"YlGnBu\" ,fmt='g')\n",
    "ax.xaxis.set_label_position(\"top\")\n",
    "plt.tight_layout()\n",
    "plt.title('Confusion matrix', y=1.1)\n",
    "plt.ylabel('Actual label')\n",
    "plt.xlabel('Predicted label')"
   ]
  },
  {
   "cell_type": "code",
   "execution_count": null,
   "id": "cc8a699e",
   "metadata": {},
   "outputs": [],
   "source": []
  }
 ],
 "metadata": {
  "kernelspec": {
   "display_name": "Python 3 (ipykernel)",
   "language": "python",
   "name": "python3"
  },
  "language_info": {
   "codemirror_mode": {
    "name": "ipython",
    "version": 3
   },
   "file_extension": ".py",
   "mimetype": "text/x-python",
   "name": "python",
   "nbconvert_exporter": "python",
   "pygments_lexer": "ipython3",
   "version": "3.9.12"
  }
 },
 "nbformat": 4,
 "nbformat_minor": 5
}
